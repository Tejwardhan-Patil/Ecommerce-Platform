{
 "cells": [
  {
   "cell_type": "code",
   "execution_count": null,
   "metadata": {},
   "outputs": [],
   "source": [
    "import pandas as pd\n",
    "import numpy as np\n",
    "import matplotlib.pyplot as plt\n",
    "import seaborn as sns\n",
    "from scipy import stats\n",
    "from sklearn.preprocessing import StandardScaler"
   ]
  },
  {
   "cell_type": "code",
   "execution_count": null,
   "metadata": {},
   "outputs": [],
   "source": [
    "user_data = pd.read_csv('../data/datasets/user_data.csv')\n",
    "product_data = pd.read_csv('../data/datasets/product_data.csv')"
   ]
  },
  {
   "cell_type": "code",
   "execution_count": null,
   "metadata": {},
   "outputs": [],
   "source": [
    "print('User Data Sample:')\n",
    "display(user_data.head())"
   ]
  },
  {
   "cell_type": "code",
   "execution_count": null,
   "metadata": {},
   "outputs": [],
   "source": [
    "print('Product Data Sample:')\n",
    "display(product_data.head())"
   ]
  },
  {
   "cell_type": "code",
   "execution_count": null,
   "metadata": {},
   "outputs": [],
   "source": [
    "print('User Data Info:')\n",
    "display(user_data.info())\n",
    "print('User Data Statistics:')\n",
    "display(user_data.describe())"
   ]
  },
  {
   "cell_type": "code",
   "execution_count": null,
   "metadata": {},
   "outputs": [],
   "source": [
    "print('Product Data Info:')\n",
    "display(product_data.info())\n",
    "print('Product Data Statistics:')\n",
    "display(product_data.describe())"
   ]
  },
  {
   "cell_type": "code",
   "execution_count": null,
   "metadata": {},
   "outputs": [],
   "source": [
    "print('Missing Values in User Data:')\n",
    "print(user_data.isnull().sum())\n",
    "print('Missing Values in Product Data:')\n",
    "print(product_data.isnull().sum())"
   ]
  },
  {
   "cell_type": "code",
   "execution_count": null,
   "metadata": {},
   "outputs": [],
   "source": [
    "user_data['age'].fillna(user_data['age'].mean(), inplace=True)\n",
    "user_data['gender'].fillna(user_data['gender'].mode()[0], inplace=True)\n",
    "product_data['price'].fillna(product_data['price'].mean(), inplace=True)\n",
    "product_data['category'].fillna(product_data['category'].mode()[0], inplace=True)"
   ]
  },
  {
   "cell_type": "code",
   "execution_count": null,
   "metadata": {},
   "outputs": [],
   "source": [
    "print('Missing Values in User Data After Cleaning:')\n",
    "print(user_data.isnull().sum())\n",
    "print('Missing Values in Product Data After Cleaning:')\n",
    "print(product_data.isnull().sum())"
   ]
  },
  {
   "cell_type": "code",
   "execution_count": null,
   "metadata": {},
   "outputs": [],
   "source": [
    "plt.figure(figsize=(10, 6))\n",
    "sns.histplot(user_data['age'], kde=True, bins=30, color='blue')\n",
    "plt.title('Distribution of User Ages')\n",
    "plt.xlabel('Age')\n",
    "plt.ylabel('Frequency')\n",
    "plt.show()"
   ]
  },
  {
   "cell_type": "code",
   "execution_count": null,
   "metadata": {},
   "outputs": [],
   "source": [
    "plt.figure(figsize=(10, 6))\n",
    "sns.histplot(product_data['price'], kde=True, bins=30, color='green')\n",
    "plt.title('Distribution of Product Prices')\n",
    "plt.xlabel('Price')\n",
    "plt.ylabel('Frequency')\n",
    "plt.show()"
   ]
  },
  {
   "cell_type": "code",
   "execution_count": null,
   "metadata": {},
   "outputs": [],
   "source": [
    "plt.figure(figsize=(8, 5))\n",
    "sns.countplot(x='gender', data=user_data, palette='coolwarm')\n",
    "plt.title('Gender Distribution')\n",
    "plt.xlabel('Gender')\n",
    "plt.ylabel('Count')\n",
    "plt.show()"
   ]
  },
  {
   "cell_type": "code",
   "execution_count": null,
   "metadata": {},
   "outputs": [],
   "source": [
    "plt.figure(figsize=(10, 5))\n",
    "sns.countplot(y='category', data=product_data, palette='Set2')\n",
    "plt.title('Product Category Distribution')\n",
    "plt.xlabel('Count')\n",
    "plt.ylabel('Category')\n",
    "plt.show()"
   ]
  },
  {
   "cell_type": "code",
   "execution_count": null,
   "metadata": {},
   "outputs": [],
   "source": [
    "plt.figure(figsize=(8, 6))\n",
    "sns.heatmap(user_data.corr(), annot=True, cmap='Blues')\n",
    "plt.title('Correlation Matrix - User Data')\n",
    "plt.show()"
   ]
  },
  {
   "cell_type": "code",
   "execution_count": null,
   "metadata": {},
   "outputs": [],
   "source": [
    "plt.figure(figsize=(8, 6))\n",
    "sns.heatmap(product_data.corr(), annot=True, cmap='Oranges')\n",
    "plt.title('Correlation Matrix - Product Data')\n",
    "plt.show()"
   ]
  },
  {
   "cell_type": "code",
   "execution_count": null,
   "metadata": {},
   "outputs": [],
   "source": [
    "if 'total_purchase' in user_data.columns:\n",
    "    plt.figure(figsize=(8, 6))\n",
    "    sns.scatterplot(x='age', y='total_purchase', data=user_data, hue='gender')\n",
    "    plt.title('User Age vs Total Purchase Value')\n",
    "    plt.xlabel('Age')\n",
    "    plt.ylabel('Total Purchase')\n",
    "    plt.show()"
   ]
  },
  {
   "cell_type": "code",
   "execution_count": null,
   "metadata": {},
   "outputs": [],
   "source": [
    "if 'rating' in product_data.columns:\n",
    "    plt.figure(figsize=(8, 6))\n",
    "    sns.scatterplot(x='price', y='rating', data=product_data)\n",
    "    plt.title('Product Price vs Rating')\n",
    "    plt.xlabel('Price')\n",
    "    plt.ylabel('Rating')\n",
    "    plt.show()"
   ]
  },
  {
   "cell_type": "code",
   "execution_count": null,
   "metadata": {},
   "outputs": [],
   "source": [
    "plt.figure(figsize=(12, 10))\n",
    "sns.pairplot(user_data[['age', 'total_purchase', 'gender']], hue='gender')\n",
    "plt.title('Pairplot for User Data')\n",
    "plt.show()"
   ]
  },
  {
   "cell_type": "code",
   "execution_count": null,
   "metadata": {},
   "outputs": [],
   "source": [
    "plt.figure(figsize=(12, 10))\n",
    "sns.pairplot(product_data[['price', 'rating', 'category']], hue='category')\n",
    "plt.title('Pairplot for Product Data')\n",
    "plt.show()"
   ]
  },
  {
   "cell_type": "code",
   "execution_count": null,
   "metadata": {},
   "outputs": [],
   "source": [
    "plt.figure(figsize=(8, 6))\n",
    "stats.probplot(user_data['age'], dist='norm', plot=plt)\n",
    "plt.title('Q-Q Plot of User Age')\n",
    "plt.show()"
   ]
  },
  {
   "cell_type": "code",
   "execution_count": null,
   "metadata": {},
   "outputs": [],
   "source": [
    "plt.figure(figsize=(8, 6))\n",
    "stats.probplot(product_data['price'], dist='norm', plot=plt)\n",
    "plt.title('Q-Q Plot of Product Price')\n",
    "plt.show()"
   ]
  },
  {
   "cell_type": "code",
   "execution_count": null,
   "metadata": {},
   "outputs": [],
   "source": [
    "scaler = StandardScaler()\n",
    "user_data_scaled = user_data.copy()\n",
    "product_data_scaled = product_data.copy()\n",
    "numeric_features_user = ['age', 'total_purchase']\n",
    "numeric_features_product = ['price', 'rating']\n",
    "user_data_scaled[numeric_features_user] = scaler.fit_transform(user_data_scaled[numeric_features_user])\n",
    "product_data_scaled[numeric_features_product] = scaler.fit_transform(product_data_scaled[numeric_features_product])"
   ]
  },
  {
   "cell_type": "code",
   "execution_count": null,
   "metadata": {},
   "outputs": [],
   "source": [
    "user_data_scaled.to_csv('../data/datasets/user_data_cleaned.csv', index=False)\n",
    "product_data_scaled.to_csv('../data/datasets/product_data_cleaned.csv', index=False)\n",
    "print('Exploratory Data Analysis Completed.')\n",
    "print('Findings:')\n",
    "print('1. User age is normally distributed with some outliers in the higher age range.')\n",
    "print('2. Product prices vary significantly across different categories.')\n",
    "print('3. There is a positive correlation between age and total purchase value for users.')\n",
    "print('4. Some product categories are associated with higher average ratings.')"
   ]
  }
 ],
 "metadata": {
  "kernelspec": {
   "display_name": "Python 3",
   "language": "python",
   "name": "python3"
  },
  "language_info": {
   "name": "python",
   "version": "3.8"
  }
 },
 "nbformat": 4,
 "nbformat_minor": 4
}
